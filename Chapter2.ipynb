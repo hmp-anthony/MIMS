{
 "cells": [
  {
   "cell_type": "markdown",
   "id": "9d5c15f3-a047-4d07-baba-326460c748ae",
   "metadata": {},
   "source": [
    "My derivation of the distributive laws. I have \"added rigor\", all you need to do is scroll down.\n",
    "![distlaws](images/Chapter2_dist_laws.svg)"
   ]
  },
  {
   "cell_type": "code",
   "execution_count": null,
   "id": "e26d28cb-678e-436d-8df1-edee3e7d2702",
   "metadata": {},
   "outputs": [],
   "source": []
  }
 ],
 "metadata": {
  "kernelspec": {
   "display_name": "Python 3 (ipykernel)",
   "language": "python",
   "name": "python3"
  },
  "language_info": {
   "codemirror_mode": {
    "name": "ipython",
    "version": 3
   },
   "file_extension": ".py",
   "mimetype": "text/x-python",
   "name": "python",
   "nbconvert_exporter": "python",
   "pygments_lexer": "ipython3",
   "version": "3.11.2"
  }
 },
 "nbformat": 4,
 "nbformat_minor": 5
}
